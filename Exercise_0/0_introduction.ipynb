{
  "cells": [
    {
      "cell_type": "markdown",
      "metadata": {
        "id": "lzDnh-yClxMt"
      },
      "source": [
        "# Organization\n",
        "## Register as a Group in Ilias\n",
        "For submission, please form a group of three students. You have to be assigned to a group in Ilias.\n",
        "You can use the \"[Looking for a group](https://ilias.studium.kit.edu/ilias.php?ref_id=1948869&cmd=render&cmdClass=ilrepositorygui&cmdNode=x1&baseClass=ilRepositoryGUI)\" forum to team up.\n",
        "As for submitting the homeworks, please make sure that you mention all your groupmates for the group submission.\n",
        "\n",
        "## Submission guidelines\n",
        "\n",
        "**The exercises should be solved and submitted as a group of three students.**\n",
        "\n",
        "For the submission of the exercise please follow these steps:\n",
        "\n",
        "1. Make sure that every cell is executed and that your plots are properly displayed and saved.\n",
        "2. Create a .zip file of your filled-in notebook, a potential pen & paper solution (for some exercises only), and the folder containing your saved plots.\n",
        "By default, the plot folder will be in your Google Drive in `rl_ws23/exercise_i/date` for the i-th exercise.\n",
        "3. Rename your zip file with the following naming convention: `group_y_uxxxx_uxxxx_uxxxx`, where `y` is your group number, `uxxxx` is the kit user from each group member.\n",
        "4. Upload the zip file to Ilias.\n",
        "\n",
        "For this exercise, please try to fill in the code where stated.\n",
        "It demonstrates some basic operations we will need for this course.\n",
        "Then, submit this exercise following the instructions above.\n",
        "This submission is only for getting familiar with the submission procedure, it will not be graded.\n",
        "\n",
        "\n",
        "## Jupyter Notebooks and Google Colab\n",
        "\n",
        "### Jupyter Notebooks\n",
        "Usually, each coding exercise will provide you with a Jupyter notebook.\n",
        "These notebooks contain markdown/text cells (such as this one), and python code cells (like the ones further below).\n",
        "Each code cell can be run separately, and access a global state for the whole notebook.\n",
        "Code that has been compiled in one cell (such as functions, classes or imports) is available in other cells.\n",
        "It is also possible to use $\\LaTeX$ equations inside the markdown environment.\n",
        "You can freely edit the code in the code-cells, and then compile a cell by clicking on the arrow next to it.\n",
        "\n",
        "For the exercises, you will be provided with an incomplete algorithm and are required to fill in missing methods and functions.\n",
        "These incomplete segments are marked with **TODO** statements, and often contain hints on what exactly needs to be done.\n",
        "\n",
        "### Google Colab\n",
        "You have the option to either run Jupyter notebook either locally using an IDE, or in the cloud using Google Colab.\n",
        "Google Colab will directly save logs and recordings to a designated folder in your Google Drive.\n",
        "\n",
        "Alternatively, you may want to use an IDE on your PC instead, and only deploy experiments on the cluster.\n",
        "For this, we recommend using either [PyCharm](https://www.jetbrains.com/pycharm/) or [Visual Studio Code](https://code.visualstudio.com/).\n",
        "As a student, you can get educational licenses for both from the [KIT Software Shop](https://www.scc.kit.edu/dienste/4800.php).\n",
        "We recommend using conda (or mamba) for managing a virtual environment with all the Python packages required for the exercises."
      ]
    },
    {
      "cell_type": "code",
      "source": [],
      "metadata": {
        "id": "PUu2bCZpmHLs"
      },
      "execution_count": null,
      "outputs": []
    },
    {
      "cell_type": "markdown",
      "metadata": {
        "id": "1whL15ERlxMw"
      },
      "source": [
        "# Preliminaries\n",
        "This section introduces the tools that we will be working with in this course.\n",
        "You will find the actual exercise in the Section \"Exercise 0\" below.\n",
        "\n",
        "## Python, Numpy and PyTorch\n",
        "Deep Reinforcement Learning algorithms often require carefully designed and complex training routines. Practitioners usually use a range of tools to deal with this complexity.\n",
        "We list the ones that we will focus on during the lecture below, and strongly encourage you to familiarize yourself with them if you have not heard of them before.\n",
        "\n",
        "### Python\n",
        "All programming exercises for this course are based on [Python](https://www.python.org/downloads/).\n",
        "Python is a programming language focused around easy syntax and quick development.\n",
        "It has a lot of infrastructure for Deep Reinforcement Learning and more generally Machine Learning applications.\n",
        "\n",
        "### Numpy\n",
        "[NumPy](https://numpy.org/) is a library for scientific computing in Python. It is structured around the *ndarray*, which is a multidimensional container that allows for easy and efficient operations on high-dimensional arrays.\n",
        "* An introduction to NumPy can be found [here](https://numpy.org/doc/stable/user/quickstart.html)\n",
        "\n",
        "### PyTorch\n",
        "[PyTorch](https://pytorch.org/) is an automatic differentiation framework that builds on NumPy. It offers a wide range of tools and pre-build blocks for different machine learning approaches. We will mainly use PyTorch for the *deep* part of Deep Reinforcement Learning, i.e., to build and train deep neural networks.\n",
        "* To get started with PyTorch, we recommend [this tutorial](https://pytorch.org/tutorials/beginner/deep_learning_60min_blitz.html)\n",
        "* For a quick primer on PyTorch Tensors, see [this tutorial](https://pytorch.org/tutorials/beginner/basics/intro.html)\n",
        "* For more information on automatic differentiation in Pytorch, see this [this tutorial](https://pytorch.org/tutorials/beginner/basics/autogradqs_tutorial.html)."
      ]
    },
    {
      "cell_type": "markdown",
      "metadata": {
        "id": "HwV6s9AmlxMx"
      },
      "source": [
        "## Local Setup\n",
        "\n",
        "If you haven't yet, create a [conda](https://docs.conda.io/projects/conda/en/latest/user-guide/install/index.html) environment using:\n",
        "```\n",
        "conda create --name rl_exercises\n",
        "conda activate rl_exercises\n",
        "```\n",
        "Torch recommends installation using conda rather than pip, so run:\n",
        "```\n",
        "conda install pytorch cpuonly -c pytorch\n",
        "```\n",
        "If you have a CUDA-enabled GPU and would like to use it, visit [the installation page](https://pytorch.org/get-started/locally/) to see the options available for different CUDA versions.\n",
        "The remaining dependencies can be installed with pip:\n",
        "```\n",
        "pip install matplotlib numpy tqdm ipykernel\n",
        "```\n",
        "\n",
        "Even if you are running the Jupyter notebook locally, please run the code cells in **Colab Setup**, because they define some global variables required later."
      ]
    },
    {
      "cell_type": "markdown",
      "metadata": {
        "id": "uW6GlWGVlxMx"
      },
      "source": [
        "## Colab Setup\n",
        "\n",
        "Google Colab provides you with a temporary environment for python programming.\n",
        "While this conveniently works on any platform and internally handles dependency issues and such, it also requires you to set up the environment from scratch every time.\n",
        "The \"Colab Setup\" section below will be part of **every** exercise and contains utility that is needed before getting started.\n",
        "\n",
        "There is a timeout of about ~12 hours with Colab while it is active (and less if you close your browser window).\n",
        "Any changes you make to the Jupyter notebook itself should be saved to your Google Drive.\n",
        "We also save all recordings and logs in it by default so that you won't lose your work in the event of an instance timeout.\n",
        "However, you will need to re-mount your Google Drive and re-install packages with every new instance."
      ]
    },
    {
      "cell_type": "code",
      "execution_count": 1,
      "metadata": {
        "id": "RcGyrEx2lxMy",
        "colab": {
          "base_uri": "https://localhost:8080/"
        },
        "outputId": "534435bb-a6a0-40b6-f758-f57b3ba6b10b"
      },
      "outputs": [
        {
          "output_type": "stream",
          "name": "stdout",
          "text": [
            "Mounted at /content/gdrive\n",
            "/content/gdrive/My Drive/rl_ws23\n",
            "Requirement already satisfied: matplotlib in /usr/local/lib/python3.10/dist-packages (3.7.1)\n",
            "Requirement already satisfied: numpy in /usr/local/lib/python3.10/dist-packages (1.23.5)\n",
            "Requirement already satisfied: torch in /usr/local/lib/python3.10/dist-packages (2.1.0+cu118)\n",
            "Requirement already satisfied: tqdm in /usr/local/lib/python3.10/dist-packages (4.66.1)\n",
            "Requirement already satisfied: contourpy>=1.0.1 in /usr/local/lib/python3.10/dist-packages (from matplotlib) (1.1.1)\n",
            "Requirement already satisfied: cycler>=0.10 in /usr/local/lib/python3.10/dist-packages (from matplotlib) (0.12.1)\n",
            "Requirement already satisfied: fonttools>=4.22.0 in /usr/local/lib/python3.10/dist-packages (from matplotlib) (4.43.1)\n",
            "Requirement already satisfied: kiwisolver>=1.0.1 in /usr/local/lib/python3.10/dist-packages (from matplotlib) (1.4.5)\n",
            "Requirement already satisfied: packaging>=20.0 in /usr/local/lib/python3.10/dist-packages (from matplotlib) (23.2)\n",
            "Requirement already satisfied: pillow>=6.2.0 in /usr/local/lib/python3.10/dist-packages (from matplotlib) (9.4.0)\n",
            "Requirement already satisfied: pyparsing>=2.3.1 in /usr/local/lib/python3.10/dist-packages (from matplotlib) (3.1.1)\n",
            "Requirement already satisfied: python-dateutil>=2.7 in /usr/local/lib/python3.10/dist-packages (from matplotlib) (2.8.2)\n",
            "Requirement already satisfied: filelock in /usr/local/lib/python3.10/dist-packages (from torch) (3.12.4)\n",
            "Requirement already satisfied: typing-extensions in /usr/local/lib/python3.10/dist-packages (from torch) (4.5.0)\n",
            "Requirement already satisfied: sympy in /usr/local/lib/python3.10/dist-packages (from torch) (1.12)\n",
            "Requirement already satisfied: networkx in /usr/local/lib/python3.10/dist-packages (from torch) (3.2)\n",
            "Requirement already satisfied: jinja2 in /usr/local/lib/python3.10/dist-packages (from torch) (3.1.2)\n",
            "Requirement already satisfied: fsspec in /usr/local/lib/python3.10/dist-packages (from torch) (2023.6.0)\n",
            "Requirement already satisfied: triton==2.1.0 in /usr/local/lib/python3.10/dist-packages (from torch) (2.1.0)\n",
            "Requirement already satisfied: six>=1.5 in /usr/local/lib/python3.10/dist-packages (from python-dateutil>=2.7->matplotlib) (1.16.0)\n",
            "Requirement already satisfied: MarkupSafe>=2.0 in /usr/local/lib/python3.10/dist-packages (from jinja2->torch) (2.1.3)\n",
            "Requirement already satisfied: mpmath>=0.19 in /usr/local/lib/python3.10/dist-packages (from sympy->torch) (1.3.0)\n"
          ]
        }
      ],
      "source": [
        "\"\"\"Your work will be stored in a folder called `rl_ws23` by default to prevent Colab\n",
        "instance timeouts from deleting your edits.\n",
        "We do this by mounting your google drive on the virtual machine created in this colab\n",
        "session. For this, you will likely need to sign in to your Google account and allow\n",
        "access to your Google Drive files.\n",
        "\"\"\"\n",
        "\n",
        "import os\n",
        "try:\n",
        "    from google.colab import drive\n",
        "    drive.mount(\"/content/gdrive\")\n",
        "    COLAB = True\n",
        "except ImportError:\n",
        "    COLAB = False\n",
        "\n",
        "# Create paths in your google drive\n",
        "if COLAB:\n",
        "    DRIVE_PATH = \"/content/gdrive/My\\ Drive/rl_ws23\"\n",
        "    DRIVE_PYTHON_PATH = DRIVE_PATH.replace(\"\\\\\", \"\")\n",
        "    if not os.path.exists(DRIVE_PYTHON_PATH):\n",
        "        %mkdir $DRIVE_PATH\n",
        "\n",
        "    # the space in `My Drive` causes some issues,\n",
        "    # make a symlink to avoid this\n",
        "    SYM_PATH = \"/content/rl_ws23\"\n",
        "    if not os.path.exists(SYM_PATH):\n",
        "        !ln -s $DRIVE_PATH $SYM_PATH\n",
        "    %cd $SYM_PATH\n",
        "\n",
        "# Install **python** packages\n",
        "if COLAB:\n",
        "    %pip install matplotlib numpy torch tqdm"
      ]
    },
    {
      "cell_type": "markdown",
      "metadata": {
        "id": "VPTQRHjJlxMy"
      },
      "source": [
        "# Exercise 0\n",
        "\n",
        "This section specifies the actual exercise.\n",
        "For exercise 0, it just contains some self-contained code cells for you to play around with.\n",
        "Later exercises will deal with more complex algorithms and follow a common structure to do so.\n",
        "\n",
        "All homeworks are self-contained.\n",
        "They can be completed in their respective notebooks.\n",
        "To edit and re-run code, you can therefore simply edit and restart the code cells below.\n",
        "\n",
        "We start by importing necessary packages and creating a progress bar."
      ]
    },
    {
      "cell_type": "code",
      "execution_count": 1,
      "metadata": {
        "id": "PLr3lbA3lxMy"
      },
      "outputs": [],
      "source": []
    },
    {
      "cell_type": "code",
      "execution_count": 2,
      "metadata": {
        "id": "h9PKiInslxMy"
      },
      "outputs": [],
      "source": [
        "from __future__ import annotations\n",
        "\n",
        "import time\n",
        "\n",
        "import matplotlib.pyplot as plt\n",
        "import numpy as np\n",
        "import torch\n",
        "from torch.nn import MSELoss\n",
        "from torch.optim import SGD\n",
        "import tqdm\n",
        "\n",
        "np.random.seed(0)\n",
        "torch.manual_seed(0)\n",
        "\n",
        "\n",
        "class ProgressBar:\n",
        "    def __init__(self, num_iterations: int, verbose: bool = True) -> None:\n",
        "        if verbose:  # create a nice little progress bar\n",
        "            self.scalar_tracker = tqdm.tqdm(\n",
        "                total=num_iterations,\n",
        "                desc=\"Scalars\",\n",
        "                bar_format=\"{desc}\",\n",
        "                position=0,\n",
        "                leave=True,\n",
        "            )\n",
        "            progress_bar_format = (\n",
        "                \"{desc} {n_fmt:\"\n",
        "                + str(len(str(num_iterations)))\n",
        "                + \"}/{total_fmt}|{bar}|{elapsed}<{remaining}\"\n",
        "            )\n",
        "            self.progress_bar = tqdm.tqdm(\n",
        "                total=num_iterations,\n",
        "                desc=\"Iteration\",\n",
        "                bar_format=progress_bar_format,\n",
        "                position=1,\n",
        "                leave=True,\n",
        "            )\n",
        "            self.verbose = True\n",
        "        else:\n",
        "            self.verbose = False\n",
        "\n",
        "    def __call__(self, **kwargs) -> None:\n",
        "        if self.verbose:\n",
        "            formatted_scalars = {\n",
        "                key: \"{:.3e}\".format(value[-1] if isinstance(value, list) else value)\n",
        "                for key, value in kwargs.items()\n",
        "            }\n",
        "            description = \"Scalars: \" + \", \".join(\n",
        "                [f\"{key}={value}\" for key, value in formatted_scalars.items()]\n",
        "            )\n",
        "            self.scalar_tracker.set_description(description)\n",
        "            self.progress_bar.update(1)\n",
        "\n",
        "\n",
        "if COLAB:\n",
        "    # specify the path to save the recordings of this run to.\n",
        "    data_path = \"/content/rl_ws23/exercise_0\"\n",
        "    data_path = os.path.join(data_path, time.strftime(\"%Y-%m-%d_%H-%M\"))\n",
        "    if not os.path.exists(data_path):\n",
        "        os.makedirs(data_path)\n",
        "\n",
        "    # this function will automatically save your figure into your google drive folder (if correctly mounted!)\n",
        "    def save_figure(save_name: str) -> None:\n",
        "        assert save_name is not None, \"Need to provide a filename to save to\"\n",
        "        plt.savefig(os.path.join(data_path, save_name + \".png\"))\n",
        "\n",
        "else:\n",
        "\n",
        "    def save_figure(save_name: str) -> None:\n",
        "        pass"
      ]
    },
    {
      "cell_type": "markdown",
      "metadata": {
        "id": "cpp4kOt1lxMz"
      },
      "source": [
        "### 0.1: Matrices and Vectors in Python\n",
        "As mentioned, we will use Python for the coding exercise.\n",
        "Additionally, for this and all following exercise we will use NumPy, one of the most fundamental python libraries,\n",
        "designed to efficiently create and operate on multi-dimensional arrays (vectors, matrices and higher order tensors).\n",
        "\n",
        "\n",
        "#### Create Matrices and Vectors in Python\n",
        "We first create a matrix <br>\n",
        "\\begin{align*}A =\n",
        "\\begin{pmatrix}\n",
        "    1 & 2 & 3 \\\\\n",
        "    4 & 2 & 6 \\\\\n",
        "    7 & 3 & 8\n",
        "\\end{pmatrix}\n",
        "\\end{align*}\n",
        "and two vectors <br>\n",
        "\n",
        "\\begin{align*} v =\n",
        "\\begin{pmatrix}\n",
        "    3  \\\\\n",
        "    1  \\\\\n",
        "    2\n",
        "\\end{pmatrix}, ~w =\n",
        "\\begin{pmatrix}\n",
        "    1  \\\\\n",
        "    1  \\\\\n",
        "    2\n",
        "\\end{pmatrix}\n",
        "\\end{align*}\n",
        "\n"
      ]
    },
    {
      "cell_type": "code",
      "execution_count": 3,
      "metadata": {
        "id": "tl2Y5k6blxMz",
        "colab": {
          "base_uri": "https://localhost:8080/"
        },
        "outputId": "6f85ea17-cb7d-468f-e777-530e17624cd2"
      },
      "outputs": [
        {
          "output_type": "stream",
          "name": "stdout",
          "text": [
            "Matrix A:\n",
            "[[1 2 3]\n",
            " [4 2 6]\n",
            " [7 3 8]]\n",
            "Vector v:\n",
            "[3 1 2]\n",
            "Vector w:\n",
            "[1 1 2]\n"
          ]
        }
      ],
      "source": [
        "# Let us create a matrix A and vectors v and w:\n",
        "A = np.array([[1, 2, 3],\n",
        "              [4 ,2, 6],\n",
        "              [7, 3, 8]])\n",
        "v = np.array([3, 1, 2])\n",
        "w = np.array([1, 1, 2])\n",
        "\n",
        "print(f\"Matrix A:\\n{A}\")\n",
        "print(f\"Vector v:\\n{v}\")\n",
        "print(f\"Vector w:\\n{w}\")"
      ]
    },
    {
      "cell_type": "markdown",
      "metadata": {
        "id": "d9o1Hb2olxM0"
      },
      "source": [
        "#### Basic Operations with Vectors and Matrices\n",
        "\n",
        "Implement the  v + w and 2 $\\cdot$ A. Print out your results and verify that they are correct."
      ]
    },
    {
      "cell_type": "code",
      "execution_count": 4,
      "metadata": {
        "id": "sELilxy8lxM1",
        "colab": {
          "base_uri": "https://localhost:8080/"
        },
        "outputId": "fa1192a3-64ec-4c3d-8e43-855fc1ec3a2b"
      },
      "outputs": [
        {
          "output_type": "stream",
          "name": "stdout",
          "text": [
            "[4 2 4]\n",
            "----------\n",
            "[[ 2  4  6]\n",
            " [ 8  4 12]\n",
            " [14  6 16]]\n"
          ]
        }
      ],
      "source": [
        "# We can perform general element-wise operations:\n",
        "\n",
        "## TODO ##\n",
        "elem_wise_sum = np.add(v,w)  # do the element-wise sum v+w here\n",
        "print(elem_wise_sum)\n",
        "print(\"----------\")\n",
        "\n",
        "## TODO ##\n",
        "elem_wise_mult = np.multiply(2,A)  # do the element-wise multiblication 2*A here\n",
        "print(elem_wise_mult)"
      ]
    },
    {
      "cell_type": "markdown",
      "metadata": {
        "id": "88Bvr6VRlxM1"
      },
      "source": [
        "Do the matrix vector product A $\\cdot$ v. Print out your result and verify that the result is correct. <br> <br>"
      ]
    },
    {
      "cell_type": "code",
      "execution_count": 5,
      "metadata": {
        "id": "svSknd6slxM1",
        "colab": {
          "base_uri": "https://localhost:8080/"
        },
        "outputId": "94f6f6d8-36c9-4308-cae1-3eddadbd76da"
      },
      "outputs": [
        {
          "output_type": "stream",
          "name": "stdout",
          "text": [
            "[11 26 40]\n"
          ]
        }
      ],
      "source": [
        "# To perform a matrix multiplication, use either np.dot or just the \"@\" symbol:\n",
        "\n",
        "## TODO ##\n",
        "#matrix_vector_prod = np.dot(A,v)\n",
        "matrix_vector_prod = A @ v # do the matrix vector product A*v here\n",
        "print(matrix_vector_prod)"
      ]
    },
    {
      "cell_type": "markdown",
      "metadata": {
        "id": "D-n_VP1blxM2"
      },
      "source": [
        "Do the matrix matrix product A $\\cdot$ A. Print out your result and verify that the result is correct.\n"
      ]
    },
    {
      "cell_type": "code",
      "execution_count": 6,
      "metadata": {
        "id": "bfDbNBuJlxM2",
        "colab": {
          "base_uri": "https://localhost:8080/"
        },
        "outputId": "e089e1b3-38b9-4d64-d205-011f5b09c405"
      },
      "outputs": [
        {
          "output_type": "stream",
          "name": "stdout",
          "text": [
            "[[ 30  15  39]\n",
            " [ 54  30  72]\n",
            " [ 75  44 103]]\n"
          ]
        }
      ],
      "source": [
        "# Two matrices can be multiplied in the same fashion:\n",
        "\n",
        "## TODO ##\n",
        "matrix_matrix_prod = A @ A  # do the matrix matrix product A*A here\n",
        "print(matrix_matrix_prod)"
      ]
    },
    {
      "cell_type": "markdown",
      "metadata": {
        "id": "bi2evbaJlxM2"
      },
      "source": [
        "### 0.2: Sampling from a Gaussian\n",
        "In Machine Learning, it is often necessary to sample from a probability distribution.\n",
        "To sample from a Gaussian distribution (https://en.wikipedia.org/wiki/Normal_distribution).\n",
        "\n",
        "Sample 1000 samples from a Gaussian distribution with mean $\\mu = -2$ and standard deviation $\\sigma=0.5$.\n",
        "We also visualize the samples. For this we use matplotlib, a python package for plotting"
      ]
    },
    {
      "cell_type": "code",
      "execution_count": 7,
      "metadata": {
        "id": "ykR2QI7rlxM2",
        "colab": {
          "base_uri": "https://localhost:8080/",
          "height": 430
        },
        "outputId": "c5c1937e-535d-40b3-fb9a-0d0aad946012"
      },
      "outputs": [
        {
          "output_type": "display_data",
          "data": {
            "text/plain": [
              "<Figure size 640x480 with 1 Axes>"
            ],
            "image/png": "[encoded data removed]"
          },
          "metadata": {}
        }
      ],
      "source": [
        "mu, sigma = -2, 0.5  # mean and standard deviation\n",
        "\n",
        "## TODO ##\n",
        "samples = np.random.normal(loc = mu, scale = sigma, size=100000)  # do the sampling from the normal distribution here\n",
        "\n",
        "# plot the histogram of the samples\n",
        "count, bins, ignored = plt.hist(samples, 40, density=True)\n",
        "\n",
        "# plot the density function\n",
        "plt.plot(\n",
        "    bins,\n",
        "    1 / (sigma * np.sqrt(2 * np.pi)) * np.exp(-((bins - mu) ** 2) / (2 * sigma**2)),\n",
        "    linewidth=2,\n",
        "    color=\"r\",\n",
        ")\n",
        "\n",
        "# show the plot\n",
        "plt.show()"
      ]
    },
    {
      "cell_type": "markdown",
      "metadata": {
        "id": "yK5mVgbplxM2"
      },
      "source": [
        "Now let's do the same thing in Pytorch."
      ]
    },
    {
      "cell_type": "code",
      "execution_count": 8,
      "metadata": {
        "id": "p4KdgI9ylxM2",
        "colab": {
          "base_uri": "https://localhost:8080/",
          "height": 430
        },
        "outputId": "3abd9869-796f-48e3-86f9-583192763c92"
      },
      "outputs": [
        {
          "output_type": "display_data",
          "data": {
            "text/plain": [
              "<Figure size 640x480 with 1 Axes>"
            ],
            "image/png": "[encoded data removed]"
          },
          "metadata": {}
        }
      ],
      "source": [
        "## TODO ##\n",
        "samples = torch.empty(100000).normal_(mean = mu,std = sigma)  # do the sampling from the normal distribution here\n",
        "#samples = torch.distributions.Normal(torch.tensor([mu]), torch.tensor([sigma]))\n",
        "\n",
        "# plot the histogram of the samples\n",
        "count, bins, ignored = plt.hist(samples.numpy(), 40, density=True)\n",
        "\n",
        "# plot the density function\n",
        "plt.plot(\n",
        "    bins,\n",
        "    1 / (sigma * np.sqrt(2 * np.pi)) * np.exp(-((bins - mu) ** 2) / (2 * sigma**2)),\n",
        "    linewidth=2,\n",
        "    color=\"r\",\n",
        ")\n",
        "\n",
        "# show the plot\n",
        "plt.show()"
      ]
    },
    {
      "cell_type": "markdown",
      "metadata": {
        "id": "NJr_T55_lxM2"
      },
      "source": [
        "### 0.3: Solving a Linear Equation\n",
        "\n",
        "You are given the linear equation <br>\n",
        "\\begin{align*}\n",
        "Ax=v.\n",
        "\\end{align*} <br>\n",
        "We want to find the vector x. Assume that the matrix A and the vector v are given as in Exercise 1.1.\n",
        "Find the solution for x. Hint: Use the function `np.linalg.solve`."
      ]
    },
    {
      "cell_type": "code",
      "execution_count": 9,
      "metadata": {
        "id": "UnE9IcIBlxM3",
        "colab": {
          "base_uri": "https://localhost:8080/"
        },
        "outputId": "c13c02b9-eed5-4f78-8d3e-53344f6b5d6e"
      },
      "outputs": [
        {
          "output_type": "stream",
          "name": "stdout",
          "text": [
            "Solution: x=array([-0.08333333,  2.41666667, -0.58333333])\n",
            "Test: A@x=array([3., 1., 2.]) is the same as v=array([3, 1, 2])\n"
          ]
        }
      ],
      "source": [
        "# To solve the linear equation system A x = v, you may use the np.linalg.solve function.\n",
        "# In other words we can use np.linalg.solve for inverting any matrix which does not stand\n",
        "# alone.\n",
        "\n",
        "## TODO ##\n",
        "x = np.linalg.solve(A, v)  # solve for x here\n",
        "\n",
        "print(f\"Solution: {x=}\")\n",
        "print(f\"Test: {A@x=} is the same as {v=}\")"
      ]
    },
    {
      "cell_type": "markdown",
      "metadata": {
        "id": "dm2bWwf5lxM3"
      },
      "source": [
        "### 0.4: PyTorch\n",
        "\n",
        "PyTorch is strikingly similar to Numpy in terms of its API.\n",
        "While there are small differences (such as using *dim* instead of *axis* to specify a\n",
        "certain dimension), most numpy code is straightforward to convert into PyTorch code.\n",
        "\n",
        "The main point of PyTorch is that it allows for automatic differentiation. Whenever\n",
        "you perform some differentiable operation on its *Tensor* objects, the gradient of\n",
        "this operation is automatically tracked. This can be used for (and is at the core of)\n",
        "modern Deep and Reinforcement Learning.\n",
        "\n",
        "Below you find a simple example:"
      ]
    },
    {
      "cell_type": "code",
      "execution_count": 10,
      "metadata": {
        "id": "NtSozChvlxM3",
        "colab": {
          "base_uri": "https://localhost:8080/"
        },
        "outputId": "bd93212b-ba25-4ad1-be85-4c473e31e1b0"
      },
      "outputs": [
        {
          "output_type": "stream",
          "name": "stdout",
          "text": [
            "Gradient of objective with respect to a: tensor([36., 81.])\n",
            "Gradient of objective with respect to b: tensor([-12.,  -8.])\n"
          ]
        }
      ],
      "source": [
        "a = torch.tensor([2.0, 3.0], requires_grad=True)\n",
        "b = torch.tensor([6.0, 4.0], requires_grad=True)\n",
        "c = 3 * a**3 - b**2\n",
        "objective = c.sum()\n",
        "\n",
        "## TODO ##\n",
        "\"\"\"\n",
        "Perform a backward pass on the objective here. This can be done by calling the `backward` method of the `objective` Tensor.\n",
        "The backward pass will automatically compute the gradients for everything that went into the objective, such as a, b and c\n",
        "\"\"\"\n",
        "objective.backward()\n",
        "\n",
        "print(f\"Gradient of objective with respect to a: {a.grad}\")\n",
        "print(f\"Gradient of objective with respect to b: {b.grad}\")"
      ]
    },
    {
      "cell_type": "markdown",
      "metadata": {
        "id": "1PxKG6wKlxM3"
      },
      "source": [
        "### 0.5: PyTorch\n",
        "\n",
        "Now that you are familiar with the way that PyTorch tracks gradients through operations,\n",
        "it is time to fit your first model.\n",
        "For this, we create a torch *module* that represents the quadratic function\n",
        "\\begin{align*}\n",
        "f(x)=w_1x^2+w_2x+w_3\\text{,}\n",
        "\\end{align*}\n",
        "\n",
        "and fit it to a training function\n",
        "\\begin{align*}\n",
        "f(x)=3x^2-2x+5\n",
        "\\end{align*} <br>\n",
        "\n",
        "using Stochastic Gradient Descent and a Mean Squared Error loss."
      ]
    },
    {
      "cell_type": "code",
      "execution_count": 11,
      "metadata": {
        "id": "dGdYjBNUlxM3"
      },
      "outputs": [],
      "source": [
        "class QuadraticFunction(torch.nn.Module):\n",
        "    def __init__(self):\n",
        "        super().__init__()  # required for any subclass of torch.nn.Module\n",
        "        self.coeffs = torch.nn.Parameter(torch.zeros(3))\n",
        "\n",
        "    def forward(self, x: torch.Tensor) -> torch.Tensor:\n",
        "        \"\"\"\n",
        "        Compute a function of the form w1*x**2 + w2*x + w3\n",
        "        \"\"\"\n",
        "        ## TODO ##\n",
        "        # use the weights of the network to represent a quadratic function of the input x.\n",
        "        # you can access the coefficients with self.coeffs[0], self.coeffs[1] and self.coeffs[2]\n",
        "        prediction = self.coeffs[0]*x**2+self.coeffs[1]*x+self.coeffs[2]\n",
        "        return prediction\n",
        "\n",
        "\n",
        "model = QuadraticFunction()\n",
        "loss_fn = MSELoss()  # mean squared error\n",
        "optimizer = SGD(model.parameters(), lr=0.05)  # stochastic gradient descent\n",
        "\n",
        "\n",
        "def target_function(positions: torch.Tensor) -> torch.Tensor:\n",
        "    targets = 3 * positions**2 - 2 * positions + 5\n",
        "    return targets"
      ]
    },
    {
      "cell_type": "markdown",
      "metadata": {
        "id": "8AnS4jPalxM4"
      },
      "source": [
        "If you implemented things correctly, you should now be able to fit the model to the ground truth\n",
        "function using the cell below. The cells below that measure the training loss and show a plot\n",
        "of your function next to the ground truth respectively."
      ]
    },
    {
      "cell_type": "code",
      "execution_count": 12,
      "metadata": {
        "id": "sdMhNiHhlxM4",
        "colab": {
          "base_uri": "https://localhost:8080/"
        },
        "outputId": "ee8a3279-469f-44c2-af57-c15dad818955"
      },
      "outputs": [
        {
          "output_type": "stream",
          "name": "stderr",
          "text": [
            "Scalars\n",
            "Scalars: loss=1.526e-01, w1=8.049e-01, w2=2.177e-01, w3=4.615e+00: \n",
            "Scalars: loss=2.141e-02, w1=1.310e+00, w2=-2.735e-01, w3=4.681e+00: \n",
            "Scalars: loss=1.399e-02, w1=1.739e+00, w2=-6.883e-01, w3=4.788e+00: \n",
            "Scalars: loss=7.655e-03, w1=2.047e+00, w2=-1.003e+00, w3=4.802e+00: \n",
            "Scalars: loss=4.359e-03, w1=2.267e+00, w2=-1.236e+00, w3=4.872e+00: \n",
            "Scalars: loss=2.542e-03, w1=2.446e+00, w2=-1.409e+00, w3=4.894e+00: \n",
            "Scalars: loss=1.572e-03, w1=2.582e+00, w2=-1.558e+00, w3=4.916e+00: \n",
            "Scalars: loss=8.673e-04, w1=2.684e+00, w2=-1.663e+00, w3=4.937e+00: \n",
            "Scalars: loss=4.827e-04, w1=2.754e+00, w2=-1.746e+00, w3=4.946e+00: \n",
            "Scalars: loss=2.858e-04, w1=2.812e+00, w2=-1.802e+00, w3=4.969e+00: \n",
            "Iteration 10/10|██████████|00:08<00:00\u001b[A"
          ]
        }
      ],
      "source": [
        "data_size = 1000\n",
        "num_epochs = 10\n",
        "\n",
        "progress_bar = ProgressBar(num_iterations=num_epochs)\n",
        "\n",
        "epoch_losses = []\n",
        "for epoch in range(num_epochs):\n",
        "    # draw data\n",
        "    positions = torch.rand((data_size,))\n",
        "    targets = target_function(positions)\n",
        "\n",
        "    epoch_loss = 0  # reset loss for logging purposes\n",
        "\n",
        "    for position, target in zip(positions, targets):\n",
        "        prediction = model(position)  # compute outputs of neural network\n",
        "        loss = loss_fn(prediction, target)  # compute the loss for the predicted values\n",
        "        loss.backward()  # accumulate gradients in the model parameters\n",
        "\n",
        "        optimizer.step()  # increment the weights one step according to the gradients\n",
        "        optimizer.zero_grad()  # clear the gradients for the next iteration\n",
        "\n",
        "        epoch_loss += loss.item()\n",
        "    epoch_loss = epoch_loss / data_size\n",
        "    epoch_losses.append(epoch_loss)\n",
        "    progress_bar(\n",
        "        loss=epoch_loss,\n",
        "        w1=model.coeffs[0].item(),\n",
        "        w2=model.coeffs[1].item(),\n",
        "        w3=model.coeffs[2].item(),\n",
        "    )"
      ]
    },
    {
      "cell_type": "code",
      "execution_count": 13,
      "metadata": {
        "id": "A2Ua2--ylxM4",
        "colab": {
          "base_uri": "https://localhost:8080/",
          "height": 466
        },
        "outputId": "709d83f2-71c7-4f78-8f76-0a640fd63df8"
      },
      "outputs": [
        {
          "output_type": "display_data",
          "data": {
            "text/plain": [
              "<Figure size 640x480 with 1 Axes>"
            ],
            "image/png": "[encoded data removed]"
          },
          "metadata": {}
        },
        {
          "output_type": "display_data",
          "data": {
            "text/plain": [
              "<Figure size 640x480 with 0 Axes>"
            ]
          },
          "metadata": {}
        }
      ],
      "source": [
        "def plot_loss(loss_history: list[float]):\n",
        "    plt.plot(range(len(loss_history)), loss_history)\n",
        "    plt.xlabel(\"Epoch\")\n",
        "    plt.yscale(\"log\")\n",
        "    plt.ylabel(\"Loss\")\n",
        "    save_figure(\"loss\")\n",
        "    plt.show()\n",
        "    plt.clf()\n",
        "\n",
        "\n",
        "plot_loss(loss_history=epoch_losses)"
      ]
    },
    {
      "cell_type": "code",
      "execution_count": 14,
      "metadata": {
        "id": "4bgSDBZWlxM4",
        "colab": {
          "base_uri": "https://localhost:8080/",
          "height": 466
        },
        "outputId": "34317b49-a581-4fa4-9b8d-2fc1ff4b5b5b"
      },
      "outputs": [
        {
          "output_type": "display_data",
          "data": {
            "text/plain": [
              "<Figure size 640x480 with 1 Axes>"
            ],
            "image/png": "[encoded data removed]"
          },
          "metadata": {}
        },
        {
          "output_type": "display_data",
          "data": {
            "text/plain": [
              "<Figure size 640x480 with 0 Axes>"
            ]
          },
          "metadata": {}
        }
      ],
      "source": [
        "def plot_fit(quadratic_model: QuadraticFunction) -> None:\n",
        "    test_positions = torch.linspace(0, 1, 200)\n",
        "    test_targets = target_function(test_positions)\n",
        "    with torch.no_grad():  # perform a forward pass without a computation graph\n",
        "        test_predictions = quadratic_model(torch.Tensor(test_positions)).numpy()\n",
        "\n",
        "    func_eval_fig = plt.figure()\n",
        "    plt.figure(func_eval_fig.number)\n",
        "    plt.plot(test_positions, test_targets, \"r\", label=\"Ground truth\")\n",
        "    plt.plot(test_positions, test_predictions, \"b\", label=\"Model prediction\")\n",
        "    plt.xlabel(\"x\")\n",
        "    plt.ylabel(\"f(x)\")\n",
        "    plt.legend()\n",
        "    save_figure(\"fit\")\n",
        "    plt.show()\n",
        "    plt.clf()\n",
        "\n",
        "\n",
        "plot_fit(quadratic_model=model)"
      ]
    }
  ],
  "metadata": {
    "kernelspec": {
      "display_name": "rl_exercises",
      "language": "python",
      "name": "rl_exercises"
    },
    "language_info": {
      "codemirror_mode": {
        "name": "ipython",
        "version": 3
      },
      "file_extension": ".py",
      "mimetype": "text/x-python",
      "name": "python",
      "nbconvert_exporter": "python",
      "pygments_lexer": "ipython3",
      "version": "3.11.5"
    },
    "colab": {
      "provenance": []
    }
  },
  "nbformat": 4,
  "nbformat_minor": 0
}